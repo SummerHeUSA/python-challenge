{
 "cells": [
  {
   "cell_type": "code",
   "execution_count": 9,
   "metadata": {},
   "outputs": [
    {
     "name": "stdout",
     "output_type": "stream",
     "text": [
      "Gene expression in mammals is regulated by noncoding elements that can affect physiology and disease, yet the functions and target genes of most noncoding elements remain unknown. We present a high-throughput approach that uses clustered regularly interspaced short palindromic repeats (CRISPR) interference (CRISPRi) to discover regulatory elements and identify their target genes. We assess >1 megabase of sequence in the vicinity of two essential transcription factors, MYC and GATA1, and identify nine distal enhancers that control gene expression and cellular proliferation. Quantitative features of chromatin state and chromosome conformation distinguish the seven enhancers that regulate MYC from other elements that do not, suggesting a strategy for predicting enhancer–promoter connectivity. This CRISPRi-based approach can be applied to dissect transcriptional networks and interpret the contributions of noncoding genetic variation to human disease.\n",
      "\n"
     ]
    }
   ],
   "source": [
    "\n",
    "with open ('/Users/summerhe/Desktop/UDEN201811DATA3/Week3/HW/ExtraContent/Instructions/PyParagraph/raw_data/paragraph_1.txt') as f:\n",
    "    data = f.read() \n",
    "    print (data)  \n",
    "    print ( )"
   ]
  },
  {
   "cell_type": "code",
   "execution_count": 15,
   "metadata": {},
   "outputs": [
    {
     "name": "stdout",
     "output_type": "stream",
     "text": [
      "Gene expression in mammals is regulated by noncoding elements that can affect physiology and disease, yet the functions and target genes of most noncoding elements remain unknown\n",
      " We present a high-throughput approach that uses clustered regularly interspaced short palindromic repeats (CRISPR) interference (CRISPRi) to discover regulatory elements and identify their target genes\n",
      " We assess >1 megabase of sequence in the vicinity of two essential transcription factors, MYC and GATA1, and identify nine distal enhancers that control gene expression and cellular proliferation\n",
      " Quantitative features of chromatin state and chromosome conformation distinguish the seven enhancers that regulate MYC from other elements that do not, suggesting a strategy for predicting enhancer–promoter connectivity\n",
      " This CRISPRi-based approach can be applied to dissect transcriptional networks and interpret the contributions of noncoding genetic variation to human disease\n",
      "\n"
     ]
    },
    {
     "data": {
      "text/plain": [
       "5"
      ]
     },
     "execution_count": 15,
     "metadata": {},
     "output_type": "execute_result"
    }
   ],
   "source": [
    "for sent in data.split('.'):\n",
    "    print(sent)\n",
    "len([sent.strip() for sent in data.split('.') if len(sent)>2])"
   ]
  },
  {
   "cell_type": "code",
   "execution_count": 44,
   "metadata": {},
   "outputs": [],
   "source": [
    "sentence = [sent.strip() for sent in data.split('.') if len(sent)>2]\n",
    "sent_lens =[]\n",
    "for s in sentence:\n",
    "    words = s.split()\n",
    "#     print(len(words))\n",
    "#     print(words)\n",
    "    sent_lens.append(len(words))"
   ]
  },
  {
   "cell_type": "code",
   "execution_count": 49,
   "metadata": {},
   "outputs": [
    {
     "data": {
      "text/plain": [
       "5"
      ]
     },
     "execution_count": 49,
     "metadata": {},
     "output_type": "execute_result"
    }
   ],
   "source": [
    "len(sent_lens)"
   ]
  },
  {
   "cell_type": "code",
   "execution_count": 48,
   "metadata": {},
   "outputs": [
    {
     "data": {
      "text/plain": [
       "26.0"
      ]
     },
     "execution_count": 48,
     "metadata": {},
     "output_type": "execute_result"
    }
   ],
   "source": [
    "sum(sent_lens)/len(sent_lens )"
   ]
  },
  {
   "cell_type": "code",
   "execution_count": 51,
   "metadata": {},
   "outputs": [],
   "source": [
    "word_list=[]\n",
    "for s in sentence:\n",
    "    \n",
    "    words = s.split()\n",
    "    for word in words:\n",
    "        word_list.append(word)\n"
   ]
  },
  {
   "cell_type": "code",
   "execution_count": 65,
   "metadata": {},
   "outputs": [
    {
     "name": "stdout",
     "output_type": "stream",
     "text": [
      "[27, 25, 29, 28, 21, 'Gene', 'expression', 'in', 'mammals', 'is', 'regulated', 'by', 'noncoding', 'elements', 'that', 'can', 'affect', 'physiology', 'and', 'disease,', 'yet', 'the', 'functions', 'and', 'target', 'genes', 'of', 'most', 'noncoding', 'elements', 'remain', 'unknown', 'We', 'present', 'a', 'high-throughput', 'approach', 'that', 'uses', 'clustered', 'regularly', 'interspaced', 'short', 'palindromic', 'repeats', '(CRISPR)', 'interference', '(CRISPRi)', 'to', 'discover', 'regulatory', 'elements', 'and', 'identify', 'their', 'target', 'genes', 'We', 'assess', '>1', 'megabase', 'of', 'sequence', 'in', 'the', 'vicinity', 'of', 'two', 'essential', 'transcription', 'factors,', 'MYC', 'and', 'GATA1,', 'and', 'identify', 'nine', 'distal', 'enhancers', 'that', 'control', 'gene', 'expression', 'and', 'cellular', 'proliferation', 'Quantitative', 'features', 'of', 'chromatin', 'state', 'and', 'chromosome', 'conformation', 'distinguish', 'the', 'seven', 'enhancers', 'that', 'regulate', 'MYC', 'from', 'other', 'elements', 'that', 'do', 'not,', 'suggesting', 'a', 'strategy', 'for', 'predicting', 'enhancer–promoter', 'connectivity', 'This', 'CRISPRi-based', 'approach', 'can', 'be', 'applied', 'to', 'dissect', 'transcriptional', 'networks', 'and', 'interpret', 'the', 'contributions', 'of', 'noncoding', 'genetic', 'variation', 'to', 'human', 'disease', 'Gene', 'expression', 'in', 'mammals', 'is', 'regulated', 'by', 'noncoding', 'elements', 'that', 'can', 'affect', 'physiology', 'and', 'disease,', 'yet', 'the', 'functions', 'and', 'target', 'genes', 'of', 'most', 'noncoding', 'elements', 'remain', 'unknown', 'We', 'present', 'a', 'high-throughput', 'approach', 'that', 'uses', 'clustered', 'regularly', 'interspaced', 'short', 'palindromic', 'repeats', '(CRISPR)', 'interference', '(CRISPRi)', 'to', 'discover', 'regulatory', 'elements', 'and', 'identify', 'their', 'target', 'genes', 'We', 'assess', '>1', 'megabase', 'of', 'sequence', 'in', 'the', 'vicinity', 'of', 'two', 'essential', 'transcription', 'factors,', 'MYC', 'and', 'GATA1,', 'and', 'identify', 'nine', 'distal', 'enhancers', 'that', 'control', 'gene', 'expression', 'and', 'cellular', 'proliferation', 'Quantitative', 'features', 'of', 'chromatin', 'state', 'and', 'chromosome', 'conformation', 'distinguish', 'the', 'seven', 'enhancers', 'that', 'regulate', 'MYC', 'from', 'other', 'elements', 'that', 'do', 'not,', 'suggesting', 'a', 'strategy', 'for', 'predicting', 'enhancer–promoter', 'connectivity', 'This', 'CRISPRi-based', 'approach', 'can', 'be', 'applied', 'to', 'dissect', 'transcriptional', 'networks', 'and', 'interpret', 'the', 'contributions', 'of', 'noncoding', 'genetic', 'variation', 'to', 'human', 'disease']\n"
     ]
    }
   ],
   "source": [
    "print(word_list\n",
    "    )"
   ]
  },
  {
   "cell_type": "code",
   "execution_count": 66,
   "metadata": {},
   "outputs": [
    {
     "data": {
      "text/plain": [
       "99"
      ]
     },
     "execution_count": 66,
     "metadata": {},
     "output_type": "execute_result"
    }
   ],
   "source": [
    "len(set(word_list))"
   ]
  },
  {
   "cell_type": "code",
   "execution_count": 67,
   "metadata": {},
   "outputs": [
    {
     "data": {
      "text/plain": [
       "19.8"
      ]
     },
     "execution_count": 67,
     "metadata": {},
     "output_type": "execute_result"
    }
   ],
   "source": [
    "len(set(word_list))/len(sent_lens)"
   ]
  },
  {
   "cell_type": "code",
   "execution_count": null,
   "metadata": {},
   "outputs": [],
   "source": []
  },
  {
   "cell_type": "code",
   "execution_count": null,
   "metadata": {},
   "outputs": [],
   "source": []
  }
 ],
 "metadata": {
  "kernelspec": {
   "display_name": "Python 3",
   "language": "python",
   "name": "python3"
  },
  "language_info": {
   "codemirror_mode": {
    "name": "ipython",
    "version": 3
   },
   "file_extension": ".py",
   "mimetype": "text/x-python",
   "name": "python",
   "nbconvert_exporter": "python",
   "pygments_lexer": "ipython3",
   "version": "3.7.0"
  }
 },
 "nbformat": 4,
 "nbformat_minor": 2
}
